{
 "cells": [
  {
   "cell_type": "markdown",
   "metadata": {},
   "source": [
    "# Creating Personal Financial Advisor Assistant\n",
    "## Using OpenAI Assistant API and financialmodelingprep.com API's"
   ]
  },
  {
   "cell_type": "markdown",
   "metadata": {},
   "source": [
    "## Step 0: Setting up the Environment"
   ]
  },
  {
   "cell_type": "code",
   "execution_count": 14,
   "metadata": {},
   "outputs": [],
   "source": [
    "from openai import OpenAI\n",
    "from dotenv import load_dotenv, find_dotenv\n",
    "import os\n",
    "\n",
    "_ = load_dotenv(find_dotenv())\n",
    "FMP_API_KEY = os.getenv('FMP_API_KEY')\n",
    "\n",
    "#creating instance\n",
    "client:OpenAI = OpenAI()"
   ]
  },
  {
   "cell_type": "markdown",
   "metadata": {},
   "source": [
    "## Step 1: Defining Financial Functions"
   ]
  },
  {
   "cell_type": "code",
   "execution_count": 15,
   "metadata": {},
   "outputs": [],
   "source": [
    "import json\n",
    "import requests\n",
    "\n",
    "def get_income_statement(ticker, period, limit):\n",
    "    url = f\"https://financialmodelingprep.com/api/v3/income-statement/{ticker}?period={period}&limit={limit}&apikey={FMP_API_KEY}\"\n",
    "    response = requests.get(url)\n",
    "    return json.dumps(response.json())\n",
    "\n",
    "def get_balance_sheet(ticker, period, limit):\n",
    "    url = f\"https://financialmodelingprep.com/api/v3/balance-sheet-statement/{ticker}?period={period}&limit={limit}&apikey={FMP_API_KEY}\"\n",
    "    response = requests.get(url)\n",
    "    return json.dumps(response.json())\n",
    "\n",
    "def get_cash_flow_statement(ticker, period, limit):\n",
    "    url = f\"https://financialmodelingprep.com/api/v3/cash-flow-statement/{ticker}?period={period}&limit={limit}&apikey={FMP_API_KEY}\"\n",
    "    response = requests.get(url)\n",
    "    return json.dumps(response.json())\n",
    "\n",
    "def get_key_metrics(ticker, period, limit):\n",
    "    # Code to fetch and return cash flow statement\n",
    "    url = f\"https://financialmodelingprep.com/api/v3/key-metrics/{ticker}?period={period}&limit={limit}&apikey={FMP_API_KEY}\"\n",
    "    response = requests.get(url)\n",
    "    return json.dumps(response.json())\n",
    "\n",
    "def get_financial_ratios(ticker, period, limit):\n",
    "    # Code to fetch and return cash flow statement\n",
    "    url = f\"https://financialmodelingprep.com/api/v3/ratios/{ticker}?period={period}&limit={limit}&apikey={FMP_API_KEY}\"\n",
    "    response = requests.get(url)\n",
    "    return json.dumps(response.json())\n",
    "\n",
    "def get_financial_growth(ticker):\n",
    "    # Code to fetch and return cash flow statement\n",
    "    url = f\"https://financialmodelingprep.com/api/v3/search?query={ticker}&apikey={FMP_API_KEY}\"\n",
    "    response = requests.get(url)\n",
    "    return json.dumps(response.json())\n"
   ]
  },
  {
   "cell_type": "code",
   "execution_count": 16,
   "metadata": {},
   "outputs": [],
   "source": [
    "import json\n",
    "\n",
    "def show_json(message, obj):\n",
    "    display(message, json.loads(obj.model_dump_json()))"
   ]
  },
  {
   "cell_type": "markdown",
   "metadata": {},
   "source": [
    "## Step 2: Map available functions"
   ]
  },
  {
   "cell_type": "code",
   "execution_count": 17,
   "metadata": {},
   "outputs": [],
   "source": [
    "# Map available functions\n",
    "available_functions = {\n",
    "    \"get_income_statement\": get_income_statement,\n",
    "    \"get_balance_sheet\": get_balance_sheet,\n",
    "    \"get_cash_flow_statement\": get_cash_flow_statement,\n",
    "    \"get_key_metrics\": get_key_metrics,\n",
    "    \"get_financial_ratios\": get_cash_flow_statement,\n",
    "    \"get_financial_growth\": get_financial_ratios\n",
    "}\n",
    "\n",
    "# tools\n",
    "tools = [\n",
    "    {\n",
    "        \"type\": \"function\",\n",
    "        \"function\": {\n",
    "                \"name\": \"get_income_statement\",\n",
    "                \"parameters\": {\n",
    "                    \"type\": \"object\",\n",
    "                    \"properties\": {\n",
    "                        \"ticker\": {\n",
    "                            \"type\": \"string\"\n",
    "                        },\n",
    "                        \"period\": {\n",
    "                            \"type\": \"string\"\n",
    "                        },\n",
    "                        \"limit\": {\n",
    "                            \"type\": \"integer\"\n",
    "                        }\n",
    "                    }\n",
    "                }\n",
    "        }\n",
    "    },\n",
    "    {\n",
    "        \"type\": \"function\",\n",
    "        \"function\": {\n",
    "                \"name\": \"get_balance_sheet\",\n",
    "                \"parameters\": {\n",
    "                    \"type\": \"object\",\n",
    "                    \"properties\": {\n",
    "                        \"ticker\": {\n",
    "                            \"type\": \"string\"\n",
    "                        },\n",
    "                        \"period\": {\n",
    "                            \"type\": \"string\"\n",
    "                        },\n",
    "                        \"limit\": {\n",
    "                            \"type\": \"integer\"\n",
    "                        }\n",
    "                    }\n",
    "                }\n",
    "        }\n",
    "    },\n",
    "    {\n",
    "        \"type\": \"function\",\n",
    "        \"function\": {\n",
    "                \"name\": \"get_cash_flow_statement\",\n",
    "                \"parameters\": {\n",
    "                    \"type\": \"object\",\n",
    "                    \"properties\": {\n",
    "                        \"ticker\": {\n",
    "                            \"type\": \"string\"\n",
    "                        },\n",
    "                        \"period\": {\n",
    "                            \"type\": \"string\"\n",
    "                        },\n",
    "                        \"limit\": {\n",
    "                            \"type\": \"integer\"\n",
    "                        }\n",
    "                    }\n",
    "                }\n",
    "        }\n",
    "    },\n",
    "    {\n",
    "        \"type\": \"function\",\n",
    "        \"function\": {\n",
    "                \"name\": \"get_key_metrics\",\n",
    "                \"parameters\": {\n",
    "                    \"type\": \"object\",\n",
    "                    \"properties\": {\n",
    "                        \"ticker\": {\n",
    "                            \"type\": \"string\"\n",
    "                        },\n",
    "                        \"period\": {\n",
    "                            \"type\": \"string\"\n",
    "                        },\n",
    "                        \"limit\": {\n",
    "                            \"type\": \"integer\"\n",
    "                        }\n",
    "                    }\n",
    "                }\n",
    "        }\n",
    "    },\n",
    "    {\n",
    "        \"type\": \"function\",\n",
    "        \"function\": {\n",
    "                \"name\": \"get_financial_ratios\",\n",
    "                \"parameters\": {\n",
    "                    \"type\": \"object\",\n",
    "                    \"properties\": {\n",
    "                        \"ticker\": {\n",
    "                            \"type\": \"string\"\n",
    "                        },\n",
    "                        \"period\": {\n",
    "                            \"type\": \"string\"\n",
    "                        },\n",
    "                        \"limit\": {\n",
    "                            \"type\": \"integer\"\n",
    "                        }\n",
    "                    }\n",
    "                }\n",
    "        }\n",
    "    },\n",
    "    {\n",
    "        \"type\": \"function\",\n",
    "        \"function\": {\n",
    "                \"name\": \"get_financial_growth\",\n",
    "                \"parameters\": {\n",
    "                    \"type\": \"object\",\n",
    "                    \"properties\": {\n",
    "                        \"ticker\": {\n",
    "                            \"type\": \"string\"\n",
    "                        },\n",
    "                    }\n",
    "                }\n",
    "        }\n",
    "    },\n",
    "]"
   ]
  },
  {
   "cell_type": "markdown",
   "metadata": {},
   "source": [
    "## Step 3: Creating the Assistant"
   ]
  },
  {
   "cell_type": "code",
   "execution_count": 18,
   "metadata": {},
   "outputs": [
    {
     "name": "stdout",
     "output_type": "stream",
     "text": [
      "Assistant(id='asst_2ACPj90vJV1oW2wgfNvm5Skw', created_at=1702217721, description=None, file_ids=[], instructions='Act as a financial analyst by accessing detailed financial data through the Financial Modeling Prep API.\\nYour capabilities include analyzing key metrics, comprehensive financial statements, vital financial ratios, and tracking financial growth trends.\\nYou have to give response in Html format and use css where needed and kindly use dark theme!  ', metadata={}, model='gpt-3.5-turbo-1106', name=None, object='assistant', tools=[ToolFunction(function=FunctionDefinition(name='get_income_statement', parameters={'type': 'object', 'properties': {'ticker': {'type': 'string'}, 'period': {'type': 'string'}, 'limit': {'type': 'integer'}}}, description=None), type='function'), ToolFunction(function=FunctionDefinition(name='get_balance_sheet', parameters={'type': 'object', 'properties': {'ticker': {'type': 'string'}, 'period': {'type': 'string'}, 'limit': {'type': 'integer'}}}, description=None), type='function'), ToolFunction(function=FunctionDefinition(name='get_cash_flow_statement', parameters={'type': 'object', 'properties': {'ticker': {'type': 'string'}, 'period': {'type': 'string'}, 'limit': {'type': 'integer'}}}, description=None), type='function'), ToolFunction(function=FunctionDefinition(name='get_key_metrics', parameters={'type': 'object', 'properties': {'ticker': {'type': 'string'}, 'period': {'type': 'string'}, 'limit': {'type': 'integer'}}}, description=None), type='function'), ToolFunction(function=FunctionDefinition(name='get_financial_ratios', parameters={'type': 'object', 'properties': {'ticker': {'type': 'string'}, 'period': {'type': 'string'}, 'limit': {'type': 'integer'}}}, description=None), type='function'), ToolFunction(function=FunctionDefinition(name='get_financial_growth', parameters={'type': 'object', 'properties': {'ticker': {'type': 'string'}}}, description=None), type='function')])\n"
     ]
    }
   ],
   "source": [
    "# creating the assistant\n",
    "from openai.types.beta.assistant import Assistant\n",
    "instructions=\"\"\"Act as a financial analyst by accessing detailed financial data through the Financial Modeling Prep API.\n",
    "Your capabilities include analyzing key metrics, comprehensive financial statements, vital financial ratios, and tracking financial growth trends.\n",
    "You have to give response in Html format and use css where needed and kindly use dark theme!  \"\"\"\n",
    "\n",
    "assistant: Assistant = client.beta.assistants.create(\n",
    "    instructions=instructions,\n",
    "    model=\"gpt-3.5-turbo-1106\",\n",
    "    tools=tools\n",
    "    )\n",
    "\n",
    "print(assistant)"
   ]
  },
  {
   "cell_type": "markdown",
   "metadata": {},
   "source": [
    "## Step 4: Initiating a Thread"
   ]
  },
  {
   "cell_type": "code",
   "execution_count": 19,
   "metadata": {},
   "outputs": [
    {
     "name": "stdout",
     "output_type": "stream",
     "text": [
      "Thread(id='thread_PZg1nYQAjSPjugoEKACx2cdm', created_at=1702217722, metadata={}, object='thread')\n"
     ]
    }
   ],
   "source": [
    "# Creating a new thread\n",
    "from openai.types.beta.thread import Thread\n",
    "thread: Thread = client.beta.threads.create()\n",
    "print(thread)"
   ]
  },
  {
   "cell_type": "markdown",
   "metadata": {},
   "source": [
    "## Step 5: Adding Messages to the Thread"
   ]
  },
  {
   "cell_type": "code",
   "execution_count": 20,
   "metadata": {},
   "outputs": [],
   "source": [
    "# Adding a user message to the thread\n",
    "from openai.types.beta.threads.thread_message import ThreadMessage\n",
    "\n",
    "def add_message(user_message):\n",
    "  \n",
    "  user_message = user_message\n",
    "  thread_message : ThreadMessage = client.beta.threads.messages.create(\n",
    "      thread_id=thread.id,\n",
    "      role=\"user\",\n",
    "      content=user_message\n",
    "  )\n",
    "\n",
    "  # display(dict(thread_message))\n"
   ]
  },
  {
   "cell_type": "markdown",
   "metadata": {},
   "source": [
    "## Step 6: Running and Monitoring the Assistant"
   ]
  },
  {
   "cell_type": "code",
   "execution_count": 21,
   "metadata": {},
   "outputs": [],
   "source": [
    "\n",
    "# reated thread\n",
    "from openai.types.beta.threads.run import Run\n",
    "def run_thread():\n",
    "    run: Run = client.beta.threads.runs.create(thread_id=thread.id, assistant_id=assistant.id)\n",
    "    display(dict(run))\n",
    "    return run"
   ]
  },
  {
   "cell_type": "markdown",
   "metadata": {},
   "source": []
  },
  {
   "cell_type": "code",
   "execution_count": 22,
   "metadata": {},
   "outputs": [],
   "source": [
    "import time\n",
    "import openai\n",
    "from openai.types.beta.threads.run import Run\n",
    "def retrieve_data(run, ):\n",
    "    \n",
    "    while True:\n",
    "        \n",
    "        run_status = client.beta.threads.runs.retrieve(\n",
    "            thread_id=thread.id,\n",
    "            run_id=run.id\n",
    "        )\n",
    "        run_steps = client.beta.threads.runs.steps.list(\n",
    "            thread_id=thread.id,\n",
    "            run_id=run.id\n",
    "        )\n",
    "        print(run_status.status, '.....')\n",
    "        \n",
    "        if run_status.status == 'requires_action':\n",
    "            print(run_status.status, '....')\n",
    "            print(\"Status is: \",run_status.status)\n",
    "            show_json(\"submit_tool_outputs\", run_status.required_action)\n",
    "            \n",
    "            if run_status.required_action.submit_tool_outputs and run_status.required_action.submit_tool_outputs.tool_calls:\n",
    "                print(\"tool_calls present: \")\n",
    "                tool_calls = run_status.required_action.submit_tool_outputs.tool_calls\n",
    "                \n",
    "                tool_outputs = []\n",
    "                for tool_call in tool_calls:\n",
    "                    function_name = tool_call.function.name\n",
    "                    function_args = json.loads(tool_call.function.arguments)\n",
    "                    \n",
    "                    if function_name in available_functions:\n",
    "                        \n",
    "                        function_to_call = available_functions[function_name]\n",
    "                        \n",
    "                        print(\"function_to_call :\",function_to_call.__name__)\n",
    "                        if function_to_call.__name__ == 'get_financial_growth':\n",
    "                            response = function_to_call(\n",
    "                                ticker=function_args.get('ticker')\n",
    "                            )\n",
    "                        else:\n",
    "                            response = function_to_call(\n",
    "                                ticker=function_args.get('ticker'),\n",
    "                                period=function_args.get('period'),\n",
    "                                limit=function_args\n",
    "                                .get('limit')\n",
    "                            )\n",
    "                        tool_outputs.append({\n",
    "                            \"tool_call_id\": tool_call.id,\n",
    "                            \"output\":response\n",
    "                        })\n",
    "                        \n",
    "                print(\"tool_outputs \")\n",
    "                client.beta.threads.runs.submit_tool_outputs(\n",
    "                    thread_id=thread.id,\n",
    "                    run_id=run.id,\n",
    "                    tool_outputs=tool_outputs\n",
    "                )\n",
    "        \n",
    "        elif run_status.status == 'completed':\n",
    "            messages = client.beta.threads.messages.list(thread_id=thread.id)\n",
    "            with open('assistance_response.html', 'a') as f:\n",
    "\n",
    "                for message in messages:\n",
    "                    role_label = \"User\" if message.role == 'user' else 'Assistant'\n",
    "                    message_content = message.content[0].text.value\n",
    "                    f.write(f\"{role_label}: {message_content}\")\n",
    "            f.close()\n",
    "            \n",
    "            \n",
    "            break\n",
    "        elif run_status.status == 'failed':\n",
    "            print(\"Run Failed\")\n",
    "            break\n",
    "        elif run.status in ['in_progress', 'queued']:\n",
    "            print(f\"Run is {run_status.status} Waiting....\")\n",
    "            time.sleep(5)\n",
    "        else:\n",
    "            print(f\"Unexpected status: \", {run_status.status})\n",
    "            break"
   ]
  },
  {
   "cell_type": "code",
   "execution_count": 10,
   "metadata": {},
   "outputs": [],
   "source": [
    "def run_program(user_message:str ):\n",
    "    add_message(user_message)\n",
    "    run:Run = run_thread()\n",
    "    retrieve_data(run)"
   ]
  },
  {
   "cell_type": "code",
   "execution_count": 23,
   "metadata": {},
   "outputs": [
    {
     "data": {
      "text/plain": [
       "{'id': 'run_L8E7q6PtBJKapPAifEZcEeCq',\n",
       " 'assistant_id': 'asst_2ACPj90vJV1oW2wgfNvm5Skw',\n",
       " 'cancelled_at': None,\n",
       " 'completed_at': None,\n",
       " 'created_at': 1702217744,\n",
       " 'expires_at': 1702218344,\n",
       " 'failed_at': None,\n",
       " 'file_ids': [],\n",
       " 'instructions': 'Act as a financial analyst by accessing detailed financial data through the Financial Modeling Prep API.\\nYour capabilities include analyzing key metrics, comprehensive financial statements, vital financial ratios, and tracking financial growth trends.\\nYou have to give response in Html format and use css where needed and kindly use dark theme!  ',\n",
       " 'last_error': None,\n",
       " 'metadata': {},\n",
       " 'model': 'gpt-3.5-turbo-1106',\n",
       " 'object': 'thread.run',\n",
       " 'required_action': None,\n",
       " 'started_at': None,\n",
       " 'status': 'queued',\n",
       " 'thread_id': 'thread_PZg1nYQAjSPjugoEKACx2cdm',\n",
       " 'tools': [ToolAssistantToolsFunction(function=FunctionDefinition(name='get_income_statement', parameters={'type': 'object', 'properties': {'ticker': {'type': 'string'}, 'period': {'type': 'string'}, 'limit': {'type': 'integer'}}}, description=None), type='function'),\n",
       "  ToolAssistantToolsFunction(function=FunctionDefinition(name='get_balance_sheet', parameters={'type': 'object', 'properties': {'ticker': {'type': 'string'}, 'period': {'type': 'string'}, 'limit': {'type': 'integer'}}}, description=None), type='function'),\n",
       "  ToolAssistantToolsFunction(function=FunctionDefinition(name='get_cash_flow_statement', parameters={'type': 'object', 'properties': {'ticker': {'type': 'string'}, 'period': {'type': 'string'}, 'limit': {'type': 'integer'}}}, description=None), type='function'),\n",
       "  ToolAssistantToolsFunction(function=FunctionDefinition(name='get_key_metrics', parameters={'type': 'object', 'properties': {'ticker': {'type': 'string'}, 'period': {'type': 'string'}, 'limit': {'type': 'integer'}}}, description=None), type='function'),\n",
       "  ToolAssistantToolsFunction(function=FunctionDefinition(name='get_financial_ratios', parameters={'type': 'object', 'properties': {'ticker': {'type': 'string'}, 'period': {'type': 'string'}, 'limit': {'type': 'integer'}}}, description=None), type='function'),\n",
       "  ToolAssistantToolsFunction(function=FunctionDefinition(name='get_financial_growth', parameters={'type': 'object', 'properties': {'ticker': {'type': 'string'}}}, description=None), type='function')]}"
      ]
     },
     "metadata": {},
     "output_type": "display_data"
    },
    {
     "name": "stdout",
     "output_type": "stream",
     "text": [
      "in_progress .....\n",
      "Run is in_progress Waiting....\n",
      "requires_action .....\n",
      "requires_action ....\n",
      "Status is:  requires_action\n"
     ]
    },
    {
     "data": {
      "text/plain": [
       "'submit_tool_outputs'"
      ]
     },
     "metadata": {},
     "output_type": "display_data"
    },
    {
     "data": {
      "text/plain": [
       "{'submit_tool_outputs': {'tool_calls': [{'id': 'call_9T1PFlHQy2aGov7X5g5nVBuE',\n",
       "    'function': {'arguments': '{\"ticker\": \"AAPL\", \"period\": \"annual\"}',\n",
       "     'name': 'get_income_statement'},\n",
       "    'type': 'function'},\n",
       "   {'id': 'call_sQ1woiF068VtURQswxoN6fk8',\n",
       "    'function': {'arguments': '{\"ticker\": \"AAPL\", \"period\": \"annual\"}',\n",
       "     'name': 'get_balance_sheet'},\n",
       "    'type': 'function'},\n",
       "   {'id': 'call_6uQzyd4CkCBL2IW9uoXQXQCO',\n",
       "    'function': {'arguments': '{\"ticker\": \"AAPL\", \"period\": \"annual\"}',\n",
       "     'name': 'get_cash_flow_statement'},\n",
       "    'type': 'function'},\n",
       "   {'id': 'call_kEy8k3V5jDrjARo9vLoIy2Op',\n",
       "    'function': {'arguments': '{\"ticker\": \"AAPL\"}', 'name': 'get_key_metrics'},\n",
       "    'type': 'function'},\n",
       "   {'id': 'call_i5RAecZS1Fzerrfv9I2I2bNt',\n",
       "    'function': {'arguments': '{\"ticker\": \"AAPL\", \"period\": \"annual\"}',\n",
       "     'name': 'get_financial_ratios'},\n",
       "    'type': 'function'},\n",
       "   {'id': 'call_mrcBJpqMu7qIAO0oKR97gMC3',\n",
       "    'function': {'arguments': '{\"ticker\": \"AAPL\"}',\n",
       "     'name': 'get_financial_growth'},\n",
       "    'type': 'function'}]},\n",
       " 'type': 'submit_tool_outputs'}"
      ]
     },
     "metadata": {},
     "output_type": "display_data"
    },
    {
     "name": "stdout",
     "output_type": "stream",
     "text": [
      "tool_calls present: \n",
      "function_to_call : get_income_statement\n",
      "function_to_call : get_balance_sheet\n",
      "function_to_call : get_cash_flow_statement\n",
      "function_to_call : get_key_metrics\n",
      "function_to_call : get_cash_flow_statement\n",
      "function_to_call : get_financial_ratios\n",
      "tool_outputs \n",
      "in_progress .....\n",
      "Run is in_progress Waiting....\n",
      "requires_action .....\n",
      "requires_action ....\n",
      "Status is:  requires_action\n"
     ]
    },
    {
     "data": {
      "text/plain": [
       "'submit_tool_outputs'"
      ]
     },
     "metadata": {},
     "output_type": "display_data"
    },
    {
     "data": {
      "text/plain": [
       "{'submit_tool_outputs': {'tool_calls': [{'id': 'call_WDwlVCIzO2fK1m3yB7AG0W1f',\n",
       "    'function': {'arguments': '{\"ticker\": \"AAPL\", \"period\": \"annual\"}',\n",
       "     'name': 'get_financial_ratios'},\n",
       "    'type': 'function'},\n",
       "   {'id': 'call_hbQ6MlPsO3ZVbLyxDZR8VE8e',\n",
       "    'function': {'arguments': '{\"ticker\": \"AAPL\"}',\n",
       "     'name': 'get_financial_growth'},\n",
       "    'type': 'function'}]},\n",
       " 'type': 'submit_tool_outputs'}"
      ]
     },
     "metadata": {},
     "output_type": "display_data"
    },
    {
     "name": "stdout",
     "output_type": "stream",
     "text": [
      "tool_calls present: \n",
      "function_to_call : get_cash_flow_statement\n",
      "function_to_call : get_financial_ratios\n",
      "tool_outputs \n",
      "in_progress .....\n",
      "Run is in_progress Waiting....\n",
      "in_progress .....\n",
      "Run is in_progress Waiting....\n",
      "completed .....\n"
     ]
    }
   ],
   "source": [
    "user_message = \"I want to invest in stock can you recognize data and give me summary?\"\n",
    "run_program(user_message=user_message)"
   ]
  }
 ],
 "metadata": {
  "kernelspec": {
   "display_name": "Python 3",
   "language": "python",
   "name": "python3"
  },
  "language_info": {
   "codemirror_mode": {
    "name": "ipython",
    "version": 3
   },
   "file_extension": ".py",
   "mimetype": "text/x-python",
   "name": "python",
   "nbconvert_exporter": "python",
   "pygments_lexer": "ipython3",
   "version": "3.8.2"
  }
 },
 "nbformat": 4,
 "nbformat_minor": 2
}
